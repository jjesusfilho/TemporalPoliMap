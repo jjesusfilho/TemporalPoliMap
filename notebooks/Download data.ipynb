{
 "cells": [
  {
   "cell_type": "code",
   "execution_count": 1,
   "metadata": {
    "collapsed": true
   },
   "outputs": [],
   "source": [
    "import os\n",
    "os.environ[\"GOOGLE_APPLICATION_CREDENTIALS\"] = \"G:\\\\Code\\\\Node\\\\TemporalPoliMap\\\\secrets\\\\bigquery_secrets_file.json\"\n",
    "from google.cloud import bigquery\n",
    "import csv\n",
    "import uuid\n",
    "import pandas as pd"
   ]
  },
  {
   "cell_type": "code",
   "execution_count": 2,
   "metadata": {
    "collapsed": true
   },
   "outputs": [],
   "source": [
    "client = bigquery.Client()"
   ]
  },
  {
   "cell_type": "code",
   "execution_count": 3,
   "metadata": {},
   "outputs": [],
   "source": [
    "def getData(cty_code):\n",
    "    query=\"\"\"\n",
    "    SELECT Source, Target, Year, QuadClass, Count(EventCode) as ECount, SUM(NumSources) as NSources, MAX(NumSources) as MaxSources, AVG(NumSources) as AvgSources, STDDEV(NumSources) as StdDevSources\n",
    "    FROM\n",
    "    (\n",
    "    SELECT  Actor1CountryCode as Source, Actor2CountryCode as Target, Year, QuadClass,EventCode,NumSources\n",
    "    FROM [gdelt-bq:full.events]\n",
    "    WHERE (Actor1CountryCode = '{cty_code}') AND (Actor1CountryCode != Actor2CountryCode)\n",
    "    AND (Actor1Type1Code = \"GOV\" OR Actor1Type2Code = \"GOV\" OR Actor1Type3Code = \"GOV\")\n",
    "    ),\n",
    "    (\n",
    "    SELECT  Actor2CountryCode as Source, Actor1CountryCode as Target, Year, QuadClass,EventCode,NumSources\n",
    "    FROM [gdelt-bq:full.events]\n",
    "    WHERE (Actor2CountryCode = '{cty_code}') AND (Actor2CountryCode != Actor1CountryCode)\n",
    "    AND (Actor2Type1Code = \"GOV\" OR Actor2Type2Code = \"GOV\" OR Actor2Type3Code = \"GOV\")\n",
    "    )\n",
    "    GROUP BY Source, Target, Year, QuadClass ORDER BY MaxSources DESC;\n",
    "    \"\"\".format(cty_code=cty_code)\n",
    "    \n",
    "    print(\"Downloading data for: \", cty_code)\n",
    "    query_job = client.run_async_query(str(uuid.uuid4()), query)\n",
    "    query_job.begin()\n",
    "    query_job.result()  # Wait for job to complete.\n",
    "    # [END run_query]\n",
    "\n",
    "    # [START print_results]\n",
    "    destination_table = query_job.destination\n",
    "    destination_table.reload()\n",
    "\n",
    "    results = [row for row in destination_table.fetch_data()]\n",
    "    columns = [schemaField.name for schemaField in destination_table.schema]\n",
    "    df = pd.DataFrame(results, columns=columns)\n",
    "    outputfile = \"../data/{}.csv\".format(cty_code)\n",
    "    df.to_csv(outputfile, index=False)\n",
    "    print(\"Saved {} (rows, columns) to {}\".format(df.shape, outputfile))"
   ]
  },
  {
   "cell_type": "code",
   "execution_count": 4,
   "metadata": {},
   "outputs": [
    {
     "name": "stdout",
     "output_type": "stream",
     "text": [
      "Downloading data for following countries:  ['USA', 'CHN', 'IND', 'AFG', 'BRA', 'FRA', 'GBR', 'IRN', 'IRQ', 'PAK', 'ISR', 'RUS', 'ZAF', 'AUS', 'GRC']\n",
      "Downloading data for:  USA\n",
      "Saved (19284, 9) (rows, columns) to ../data/USA.csv\n",
      "Downloading data for:  CHN\n",
      "Saved (10386, 9) (rows, columns) to ../data/CHN.csv\n",
      "Downloading data for:  IND\n",
      "Saved (4645, 9) (rows, columns) to ../data/IND.csv\n",
      "Downloading data for:  AFG\n",
      "Saved (4326, 9) (rows, columns) to ../data/AFG.csv\n",
      "Downloading data for:  BRA\n",
      "Saved (3823, 9) (rows, columns) to ../data/BRA.csv\n",
      "Downloading data for:  FRA\n",
      "Saved (10889, 9) (rows, columns) to ../data/FRA.csv\n",
      "Downloading data for:  GBR\n",
      "Saved (12345, 9) (rows, columns) to ../data/GBR.csv\n",
      "Downloading data for:  IRN\n",
      "Saved (7603, 9) (rows, columns) to ../data/IRN.csv\n",
      "Downloading data for:  IRQ\n",
      "Saved (5941, 9) (rows, columns) to ../data/IRQ.csv\n",
      "Downloading data for:  PAK\n",
      "Saved (5612, 9) (rows, columns) to ../data/PAK.csv\n",
      "Downloading data for:  ISR\n",
      "Saved (7826, 9) (rows, columns) to ../data/ISR.csv\n",
      "Downloading data for:  RUS\n",
      "Saved (10928, 9) (rows, columns) to ../data/RUS.csv\n",
      "Downloading data for:  ZAF\n",
      "Saved (5571, 9) (rows, columns) to ../data/ZAF.csv\n",
      "Downloading data for:  AUS\n",
      "Saved (6475, 9) (rows, columns) to ../data/AUS.csv\n",
      "Downloading data for:  GRC\n",
      "Saved (3922, 9) (rows, columns) to ../data/GRC.csv\n"
     ]
    }
   ],
   "source": [
    "codes = [\"USA\",\"CHN\",\"IND\",\"AFG\",\"BRA\",\"FRA\",\"GBR\",\"IRN\",\"IRQ\",\"PAK\",\"ISR\",\"RUS\",\"ZAF\",\"AUS\", \"GRC\"]\n",
    "print(\"Downloading data for following countries: \", codes)\n",
    "for code in codes:\n",
    "    getData(code)"
   ]
  },
  {
   "cell_type": "code",
   "execution_count": null,
   "metadata": {
    "collapsed": true
   },
   "outputs": [],
   "source": []
  }
 ],
 "metadata": {
  "kernelspec": {
   "display_name": "Python 3",
   "language": "python",
   "name": "python3"
  },
  "language_info": {
   "codemirror_mode": {
    "name": "ipython",
    "version": 3
   },
   "file_extension": ".py",
   "mimetype": "text/x-python",
   "name": "python",
   "nbconvert_exporter": "python",
   "pygments_lexer": "ipython3",
   "version": "3.6.2"
  }
 },
 "nbformat": 4,
 "nbformat_minor": 2
}
